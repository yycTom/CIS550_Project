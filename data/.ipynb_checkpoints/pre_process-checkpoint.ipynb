{
 "cells": [
  {
   "cell_type": "code",
   "execution_count": 1,
   "metadata": {},
   "outputs": [],
   "source": [
    "def country_regularizer(country):\n",
    "    if country in [\"United States of America (the)\", \"US\", \"USA\"]:\n",
    "        return \"United States\"\n",
    "    elif country in [\"Dem. People's Republic of Korea\"]:\n",
    "        return \"South Korea\"\n",
    "    elif country in [\"Congo (Kinshasa)\", \"DRC\"]:\n",
    "        return \"Democratic Republic of the Congo\"\n",
    "    elif country in [\"Congo (Brazzaville)\", \"Congo\"]:\n",
    "        return \"Republic of the Congo\"\n",
    "    elif country in [\"\\\"Bahamas, The\\\"\", \"Bahamas\"]:\n",
    "        return \"The Bahamas\"\n",
    "    elif country in [\"Curaçao\"]:\n",
    "        return \"Curacao\"\n",
    "    elif country in [\"Gambia\"]:\n",
    "        return \"The Gambia\"\n",
    "    elif country in [\"Republic of Ireland\"]:\n",
    "        return \"Ireland\"\n",
    "    elif country in [\"UAE\"]:\n",
    "        return \"United Arab Emirates\"\n",
    "    elif country in [\"Turks and Caicos\"]:\n",
    "        return \"Turks and Caicos Islands\"\n",
    "    elif country in [\"French Guinea\"]:\n",
    "        return \"Guinea\"\n",
    "    elif country in [\"Portuguese Guinea\"]:\n",
    "        return \"Guinea-Bissau\"\n",
    "    elif country in [\"Spanish Guinea\"]:\n",
    "        return \"Equatorial Guinea\"\n",
    "    elif country in [\"St. Martin\"]:\n",
    "        return \"Saint Martin\"\n",
    "    elif country in [\"Timor-Leste\"]:\n",
    "        return \"East Timor\"\n",
    "    else:\n",
    "        return country"
   ]
  },
  {
   "cell_type": "code",
   "execution_count": 2,
   "metadata": {},
   "outputs": [],
   "source": [
    "import pandas as pd\n",
    "import os\n",
    "\n",
    "#################\n",
    "### Happiness ###\n",
    "#################\n",
    "dir_name = \"Original_Data/happiness/\"\n",
    "files = os.listdir(dir_name)\n",
    "happiness_index = {}\n",
    "for file_name in files:\n",
    "    year = file_name[:-4]\n",
    "    if year in [\"2020\"]:\n",
    "        subset = ['Country name', 'Ladder score']\n",
    "    elif year in [\"2019\", \"2018\"]:\n",
    "        subset = ['Country or region', 'Score']\n",
    "    elif year in ['2017']:\n",
    "        subset = ['Country', 'Happiness.Score']\n",
    "    elif year in ['2016', '2015']:\n",
    "        subset = ['Country', 'Happiness Score']\n",
    "    else:\n",
    "        print(\"No data for year\", year)\n",
    "    happiness_index[year] = pd.read_csv(dir_name + file_name).dropna(subset = subset)\n",
    "\n",
    "with open('processed/Happiness.csv', 'w') as f:\n",
    "    #print(\"country,year,score\", file = f)\n",
    "    for year in happiness_index.keys():\n",
    "        tab = happiness_index[year]\n",
    "        for instance in happiness_index[year].values.tolist():\n",
    "            if year in [\"2020\", \"2017\"]:\n",
    "                print(\"%s,%s,%.2f\" % (country_regularizer(instance[0]), year, instance[2]), file = f)\n",
    "            elif year in [\"2019\", \"2018\"]:\n",
    "                print(\"%s,%s,%.2f\" % (country_regularizer(instance[1]), year, instance[2]), file = f)\n",
    "            elif year in [\"2016\", \"2015\"]:\n",
    "                print(\"%s,%s,%.2f\" % (country_regularizer(instance[0]), year, instance[3]), file = f)"
   ]
  },
  {
   "cell_type": "code",
   "execution_count": 8,
   "metadata": {},
   "outputs": [],
   "source": [
    "###############\n",
    "### Country ###         \n",
    "###############\n",
    "country_info = {}\n",
    "country_list = []\n",
    "GDP = pd.read_csv(\"Original_Data/country_info/\" + \"GDP_per_capita.csv\").dropna(subset = ['Country', 'GDP per capita']).values.tolist()\n",
    "for instance in GDP:\n",
    "    country_info[instance[0]] = {\"GDP\": instance[1]}\n",
    "\n",
    "life_exp = pd.read_csv(\"Original_Data/country_info/\" + \"Life_expectancy.csv\").dropna(subset = ['Country', 'Life expectancy']).values.tolist()\n",
    "for instance in life_exp:\n",
    "    if instance[0] in country_info.keys():\n",
    "        country_info[instance[0]][\"life_exp\"] = instance[1]\n",
    "    else:\n",
    "        country_info[instance[0]] = {\"life_exp\": instance[1]}\n",
    "        #print(\"creating new key in country_info:\", instance[0])\n",
    "\n",
    "med_age = pd.read_csv(\"Original_Data/country_info/\" + \"Median_age.csv\").dropna(subset = ['Country', 'Median age']).values.tolist()\n",
    "for instance in med_age:\n",
    "    if instance[0] in country_info.keys():\n",
    "        country_info[instance[0]][\"med_age\"] = instance[1]\n",
    "    else:\n",
    "        country_info[instance[0]] = {\"med_age\": instance[1]}\n",
    "        #print(\"creating new key in country_info:\", instance[0])\n",
    "\n",
    "with open(\"processed/Country.csv\", 'w') as f:\n",
    "    #print(\"country,med_age,life_expectancy,gdp\", file = f)\n",
    "    for country in country_info.keys():\n",
    "        if \"med_age\" in country_info[country].keys():\n",
    "            med_age = country_info[country][\"med_age\"]\n",
    "        else:\n",
    "            med_age = float('nan')\n",
    "            \n",
    "        if \"life_exp\" in country_info[country].keys():\n",
    "            life_exp = country_info[country][\"life_exp\"]\n",
    "        else:\n",
    "            life_exp = float('nan')\n",
    "            \n",
    "        if \"GDP\" in country_info[country].keys():\n",
    "            GDP = country_info[country][\"GDP\"]\n",
    "        else:\n",
    "            GDP = float('nan')\n",
    "            \n",
    "        print(\"%s,%.1f,%.1f,%.1f\" % (country, med_age, life_exp, GDP), file = f)\n",
    "        #print(country)\n",
    "        country_list.append(country)"
   ]
  },
  {
   "cell_type": "code",
   "execution_count": 38,
   "metadata": {},
   "outputs": [
    {
     "data": {
      "text/plain": [
       "224"
      ]
     },
     "execution_count": 38,
     "metadata": {},
     "output_type": "execute_result"
    }
   ],
   "source": [
    "len(country_list)"
   ]
  },
  {
   "cell_type": "code",
   "execution_count": 41,
   "metadata": {},
   "outputs": [],
   "source": [
    "import json\n",
    "with open(\"processed/country_list.json\", \"w\") as f:\n",
    "    json.dump(country_list, f)"
   ]
  },
  {
   "cell_type": "code",
   "execution_count": 4,
   "metadata": {},
   "outputs": [],
   "source": [
    "###################          \n",
    "### Case_Gender ###            \n",
    "###################\n",
    "with open(\"processed/Case_Gender.csv\", 'w') as f:\n",
    "    gender = pd.read_csv(\"Original_Data/gender.csv\").dropna(subset = [\"Country\", \"Cases (% male)\", \"Cases (% female)\"]).values.tolist()\n",
    "    #print(\"country,female_percent,male_percent\", file = f)\n",
    "    for instance in gender:\n",
    "        print(\"%s,%s,%s\" % (country_regularizer(instance[1]), instance[5], instance[6]), file = f)"
   ]
  },
  {
   "cell_type": "code",
   "execution_count": 5,
   "metadata": {},
   "outputs": [],
   "source": [
    "###################        \n",
    "### Air_Traffic ###\n",
    "###################\n",
    "with open(\"processed/Air_Traffic.csv\", 'w') as f:\n",
    "    air_traffic = pd.read_csv(\"Original_Data/covid_impact_on_airport_traffic.csv\").dropna(subset = ['Date', 'AirportName']).values.tolist()\n",
    "    #print(\"airport,date,country,state,city,baseline_percent\", file = f)\n",
    "    for instance in air_traffic:\n",
    "        print(\"%s,%s,%s,%s,%s,%d\" % (instance[3], instance[1], country_regularizer(instance[9]), instance[7], instance[6], instance[4]), file = f)"
   ]
  },
  {
   "cell_type": "code",
   "execution_count": 49,
   "metadata": {},
   "outputs": [
    {
     "name": "stdout",
     "output_type": "stream",
     "text": [
      "1687\n",
      "212\n"
     ]
    }
   ],
   "source": [
    "#############\n",
    "### COVID ###\n",
    "#############\n",
    "count_skip = 0\n",
    "country_covid = []\n",
    "with open(\"processed/COVID.csv\", 'w') as f:\n",
    "    covid = pd.read_csv(\"Original_Data/covid_19_all.csv\").dropna(subset = ['Country/Region']).values.tolist()\n",
    "    #print(\"country,province,date,longitude,latitude,confirmed,death,recovered\", file = f)\n",
    "    for instance in covid:\n",
    "        MM = instance[7].split(\"/\")[0]\n",
    "        DD = instance[7].split(\"/\")[1]\n",
    "        YYYY = \"20\" + instance[7].split(\"/\")[2]\n",
    "        print(\"%s,%s,%s,%.2f,%.2f,%.f,%.f,%.f\" % (country_regularizer(instance[0]), delete_comma(instance[1]), YYYY + \"-\" + MM + \"-\" + DD, instance[3], instance[2], instance[4], instance[6], instance[5]), file = f)\n",
    "        if country_regularizer(instance[0]) not in country_list:\n",
    "            count_skip += 1\n",
    "        if country_regularizer(instance[0]) not in country_covid:\n",
    "            country_covid.append(country_regularizer(instance[0]))\n",
    "    print(count_skip)\n",
    "    print(len(country_covid))"
   ]
  },
  {
   "cell_type": "code",
   "execution_count": 36,
   "metadata": {},
   "outputs": [],
   "source": [
    "##################\n",
    "### First_Case ###\n",
    "##################\n",
    "import datetime\n",
    "def delete_comma(instance):\n",
    "    if isinstance(instance, str):\n",
    "        return instance.replace(\",\", \" \")\n",
    "    else:\n",
    "        return instance\n",
    "with open(\"processed/First_Case_First_Dead.csv\", \"w\") as f:\n",
    "    first_case = pd.read_csv(\"Original_Data/Covid-19_world-wide_Dataset.csv\",encoding= 'unicode_escape').dropna(subset = ['Continent', 'Country', 'Date of First Case(s)']).values.tolist()\n",
    "    #print(\"continent,country,date_of_first_case,last_visited_country,confirmed_case_at_first_day,age_of_first_case,date_of_first_death,age_of_first_death\", file = f)\n",
    "    for instance in first_case:\n",
    "        datetime_object = datetime.datetime.strptime(instance[2].split(\" \")[1], \"%B\")\n",
    "        MM = str(datetime_object.month)\n",
    "        DD = instance[2].split(\" \")[0]\n",
    "        YYYY = instance[2].split(\" \")[2]\n",
    "        print(\"%s,%s,%s,%s,%s,%s,%s,%s\" % (country_regularizer(instance[0]), instance[1], YYYY + \"-\" + MM + \"-\" + DD, delete_comma(instance[3]), delete_comma(instance[4]), delete_comma(instance[5]), delete_comma(instance[6]), delete_comma(instance[7])), file = f)"
   ]
  },
  {
   "cell_type": "code",
   "execution_count": 46,
   "metadata": {},
   "outputs": [],
   "source": [
    "##############\n",
    "### LatLng ###\n",
    "##############\n",
    "import json\n",
    "with open(\"processed/LatLng.csv\", \"w\") as f:\n",
    "    with open(\"Original_Data/latitude_longtitude_country.json\") as file:\n",
    "        latlng = json.load(file)\n",
    "        #print(\"country,latitude,longitude\")\n",
    "        for instance in latlng:\n",
    "            if country_regularizer(instance['name']) in country_list:\n",
    "                print(\"%s,%i,%i\" % (country_regularizer(instance['name']), instance['latlng'][0], instance['latlng'][1]), file = f)"
   ]
  },
  {
   "cell_type": "code",
   "execution_count": null,
   "metadata": {},
   "outputs": [],
   "source": [
    "GDP = pd.read_csv(\"Original_Data/country_info/\" + \"GDP_per_capita.csv\")#.dropna(subset = ['Country', 'GDP per capita'])\n",
    "life_exp = pd.read_csv(\"Original_Data/country_info/\" + \"Life_expectancy.csv\")#.dropna(subset = ['Country', 'Life expectancy'])\n",
    "med_age = pd.read_csv(\"Original_Data/country_info/\" + \"Median_age.csv\")#.dropna(subset = ['Country', 'Median age'])"
   ]
  },
  {
   "cell_type": "code",
   "execution_count": null,
   "metadata": {},
   "outputs": [],
   "source": [
    "len(sorted(list(set(GDP[\"Country\"].unique().tolist() + med_age[\"Country\"].unique().tolist() + life_exp[\"Country\"].unique().tolist()))))"
   ]
  },
  {
   "cell_type": "code",
   "execution_count": null,
   "metadata": {},
   "outputs": [],
   "source": [
    "len(sorted(list(set(GDP[\"Country\"].unique().tolist() + med_age[\"Country\"].unique().tolist() + life_exp[\"Country\"].unique().tolist()))))"
   ]
  }
 ],
 "metadata": {
  "kernelspec": {
   "display_name": "Python 3",
   "language": "python",
   "name": "python3"
  },
  "language_info": {
   "codemirror_mode": {
    "name": "ipython",
    "version": 3
   },
   "file_extension": ".py",
   "mimetype": "text/x-python",
   "name": "python",
   "nbconvert_exporter": "python",
   "pygments_lexer": "ipython3",
   "version": "3.8.5"
  }
 },
 "nbformat": 4,
 "nbformat_minor": 4
}
